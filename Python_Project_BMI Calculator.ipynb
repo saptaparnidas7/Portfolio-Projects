{
 "cells": [
  {
   "cell_type": "code",
   "execution_count": 2,
   "id": "02262870",
   "metadata": {},
   "outputs": [
    {
     "name": "stdout",
     "output_type": "stream",
     "text": [
      " Enter your Name adcd\n",
      " Enter your Height in Inches : 22\n",
      " Enter your Weight in pounds : 345\n",
      "   BMI is 501.10537190082647\n"
     ]
    }
   ],
   "source": [
    "Name = input ( \" Enter your Name \")\n",
    "\n",
    "Height = int(input (\" Enter your Height in Inches : \"))\n",
    "\n",
    "Weight = int(input (\" Enter your Weight in pounds : \"))\n",
    "\n",
    "BMI = (Weight * 703) / (Height * Height)\n",
    "\n",
    "print (\"   BMI is\" , BMI) "
   ]
  },
  {
   "cell_type": "code",
   "execution_count": 6,
   "id": "c20c75f8",
   "metadata": {},
   "outputs": [
    {
     "name": "stdout",
     "output_type": "stream",
     "text": [
      "adcd - You are morbidly obese. \n"
     ]
    }
   ],
   "source": [
    "if BMI > 0 :\n",
    "    if (BMI < 18.5) :\n",
    "        print ( Name + \" - You are underweight. \")\n",
    "    elif (BMI <= 24.9) :\n",
    "        print ( Name + \" - You are normal weight. \")\n",
    "    elif (BMI <= 29.9) :\n",
    "        print ( Name + \" - You are overweight. \")\n",
    "    elif (BMI <= 34.9) :\n",
    "        print ( Name + \" - You are obese.\")\n",
    "    elif (BMI <= 39.9) :\n",
    "        print ( Name + \" - You are severely obese. \")\n",
    "    else :\n",
    "        print ( Name + \" - You are morbidly obese. \")"
   ]
  },
  {
   "cell_type": "code",
   "execution_count": null,
   "id": "61ccfacd",
   "metadata": {},
   "outputs": [],
   "source": []
  },
  {
   "cell_type": "code",
   "execution_count": null,
   "id": "b723b191",
   "metadata": {},
   "outputs": [],
   "source": []
  }
 ],
 "metadata": {
  "kernelspec": {
   "display_name": "Python 3 (ipykernel)",
   "language": "python",
   "name": "python3"
  },
  "language_info": {
   "codemirror_mode": {
    "name": "ipython",
    "version": 3
   },
   "file_extension": ".py",
   "mimetype": "text/x-python",
   "name": "python",
   "nbconvert_exporter": "python",
   "pygments_lexer": "ipython3",
   "version": "3.9.7"
  }
 },
 "nbformat": 4,
 "nbformat_minor": 5
}
